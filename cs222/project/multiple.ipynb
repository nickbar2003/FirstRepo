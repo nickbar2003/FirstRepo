{
 "cells": [
  {
   "cell_type": "code",
   "execution_count": 19,
   "metadata": {},
   "outputs": [],
   "source": [
    "\n",
    "import pandas as pd\n",
    "import matplotlib.pyplot as plt\n",
    "from sklearn import preprocessing\n",
    "from sklearn.model_selection import train_test_split\n",
    "from sklearn.linear_model import LinearRegression\n",
    "import seaborn as sns\n",
    "import numpy as np\n",
    "from sklearn.feature_selection import r_regression\n",
    "from sklearn.metrics import mean_squared_error, mean_absolute_error, r2_score\n",
    "from sklearn.preprocessing import PolynomialFeatures\n",
    "from sklearn.model_selection import cross_val_score\n",
    "\n",
    "df = pd.read_csv('./data/workingData')\n",
    "\n",
    "\n"
   ]
  },
  {
   "cell_type": "code",
   "execution_count": 20,
   "metadata": {},
   "outputs": [
    {
     "name": "stdout",
     "output_type": "stream",
     "text": [
      "MSE = 1102.4368871910176\n",
      "MAE = 27.728753962775183\n",
      "R-squared = 0.5386424005059065\n",
      "k = 10:  1918.2758827315424\n",
      "LOOCV:  2029.6336312562075\n"
     ]
    }
   ],
   "source": [
    "# Multiple Linear Regression\n",
    "\n",
    "\n",
    "test_p = .2\n",
    "seed = 123\n",
    "\n",
    "X = df[['Fruit','Vegetables']].values.reshape(-1, 2)\n",
    "y = df[['co2_including_luc']].values.reshape(-1,1)\n",
    "\n",
    "X_train, X_test, y_train, y_test = train_test_split(\n",
    "\n",
    "    X, y, test_size=test_p, random_state=seed\n",
    ")\n",
    "\n",
    "linModel = LinearRegression()\n",
    "linModel.fit(X_train,y_train)\n",
    "y_pred = linModel.predict(X_test)\n",
    "\n",
    "print('MSE =', mean_squared_error(y_test, y_pred))\n",
    "print('MAE =', mean_absolute_error(y_test, y_pred))\n",
    "print('R-squared =', r2_score(y_test, y_pred))\n",
    "\n",
    "ten_fold_scores = -cross_val_score(\n",
    "    linModel, X_train, y_train, scoring='neg_mean_squared_error', cv=10\n",
    ")\n",
    "\n",
    "LOOCV_scores = -cross_val_score(linModel, X_train, y_train, scoring='neg_mean_squared_error', cv=49)\n",
    "\n",
    "print('k = 10: ', np.mean(ten_fold_scores))\n",
    "print('LOOCV: ', np.mean(LOOCV_scores))\n",
    "\n",
    "\n"
   ]
  },
  {
   "cell_type": "code",
   "execution_count": 21,
   "metadata": {},
   "outputs": [
    {
     "name": "stdout",
     "output_type": "stream",
     "text": [
      "MSE = 1004.0455530970878\n",
      "MAE = 26.30319932754222\n",
      "R-squared = 0.5798180816138369\n",
      "k = 10:  1273.0696345353342\n",
      "LOOCV:  1221.7889558766985\n"
     ]
    }
   ],
   "source": [
    "# multiple quadradic regression degree 2\n",
    "test_p = .2\n",
    "seed = 123\n",
    "\n",
    "X = df[['Fruit', \"Vegetables\"]].values.reshape(-1, 2)\n",
    "y = df[['co2_including_luc']].values.reshape(-1,1)\n",
    "\n",
    "X_train, X_test, y_train, y_test = train_test_split(\n",
    "\n",
    "    X, y, test_size=test_p, random_state=seed\n",
    ")\n",
    "\n",
    "X_train = np.asarray(X_train)\n",
    "y_train = np.asarray(y_train)\n",
    "polyFeatures = PolynomialFeatures(degree=2, include_bias=False)\n",
    "xPoly = polyFeatures.fit_transform(X_train.reshape(-1, 2))\n",
    "polyModel = LinearRegression().fit(xPoly, y_train)\n",
    "poly_test = polyFeatures.fit_transform(X_test.reshape(-1, 2))\n",
    "y_pred = polyModel.predict(poly_test)\n",
    "\n",
    "# metrics.mean_squared_error(y_test, y_pred)\n",
    "# metrics.mean_squared_error(y_test, y_pred, squared=False)\n",
    "# metrics.mean_absolute_error(y_test, y_pred)\n",
    "\n",
    "print('MSE =', mean_squared_error(y_test, y_pred))\n",
    "print('MAE =', mean_absolute_error(y_test, y_pred))\n",
    "print('R-squared =', r2_score(y_test, y_pred))\n",
    "\n",
    "ten_fold_scores = -cross_val_score(\n",
    "    polyModel, xPoly, y_train, scoring='neg_mean_squared_error', cv=10\n",
    ")\n",
    "\n",
    "LOOCV_scores = -cross_val_score(polyModel, xPoly, y_train, scoring='neg_mean_squared_error', cv=49)\n",
    "print('k = 10: ', np.mean(ten_fold_scores))\n",
    "print('LOOCV: ', np.mean(LOOCV_scores))"
   ]
  },
  {
   "cell_type": "code",
   "execution_count": 22,
   "metadata": {},
   "outputs": [
    {
     "name": "stdout",
     "output_type": "stream",
     "text": [
      "MSE = 1050.1847669821454\n",
      "MAE = 27.06257979181939\n",
      "R-squared = 0.5605093327794317\n",
      "k = 10:  1368.2500074298428\n",
      "LOOCV:  1375.3592041736888\n"
     ]
    }
   ],
   "source": [
    "# multiple quadratic regression degree 3\n",
    "test_p = .2\n",
    "seed = 123\n",
    "\n",
    "X = df[['Vegetables','Fruit']].values.reshape(-1, 2)\n",
    "y = df[['co2_including_luc']].values.reshape(-1,1)\n",
    "\n",
    "X_train, X_test, y_train, y_test = train_test_split(\n",
    "\n",
    "    X, y, test_size=test_p, random_state=seed\n",
    ")\n",
    "\n",
    "X_train = np.asarray(X_train)\n",
    "y_train = np.asarray(y_train)\n",
    "\n",
    "polyFeatures = PolynomialFeatures(degree=3, include_bias=False)\n",
    "xPoly = polyFeatures.fit_transform(X_train.reshape(-1, 2))\n",
    "polyModel = LinearRegression().fit(xPoly, y_train)\n",
    "poly_test = polyFeatures.fit_transform(X_test.reshape(-1, 2))\n",
    "y_pred = polyModel.predict(poly_test)\n",
    "\n",
    "\n",
    "\n",
    "print('MSE =', mean_squared_error(y_test, y_pred))\n",
    "print('MAE =', mean_absolute_error(y_test, y_pred))\n",
    "print('R-squared =', r2_score(y_test, y_pred))\n",
    "\n",
    "ten_fold_scores = -cross_val_score(\n",
    "    polyModel, xPoly, y_train, scoring='neg_mean_squared_error', cv=10\n",
    ")\n",
    "\n",
    "LOOCV_scores = -cross_val_score(polyModel, xPoly, y_train, scoring='neg_mean_squared_error', cv=49)\n",
    "print('k = 10: ', np.mean(ten_fold_scores))\n",
    "print('LOOCV: ', np.mean(LOOCV_scores))"
   ]
  }
 ],
 "metadata": {
  "kernelspec": {
   "display_name": "Python 3",
   "language": "python",
   "name": "python3"
  },
  "language_info": {
   "codemirror_mode": {
    "name": "ipython",
    "version": 3
   },
   "file_extension": ".py",
   "mimetype": "text/x-python",
   "name": "python",
   "nbconvert_exporter": "python",
   "pygments_lexer": "ipython3",
   "version": "3.10.12"
  }
 },
 "nbformat": 4,
 "nbformat_minor": 2
}
