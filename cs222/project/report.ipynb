{
 "cells": [
  {
   "cell_type": "markdown",
   "metadata": {},
   "source": [
    "\n",
    "# Nicholas Barinaga\n",
    "# Envormental Impact of Spanish Agriculture\n",
    "# CPSC 222 Spring 2024"
   ]
  },
  {
   "cell_type": "code",
   "execution_count": 179,
   "metadata": {},
   "outputs": [],
   "source": [
    "# Package Importation\n",
    "from sklearn.neighbors import KNeighborsRegressor\n",
    "import pandas as pd\n",
    "import matplotlib.pyplot as plt\n",
    "from sklearn import preprocessing\n",
    "from sklearn.model_selection import train_test_split\n",
    "from sklearn.linear_model import LinearRegression\n",
    "import seaborn as sns\n",
    "import numpy as np\n",
    "from sklearn.feature_selection import r_regression\n",
    "from sklearn.metrics import mean_squared_error, mean_absolute_error, r2_score\n",
    "from sklearn.preprocessing import PolynomialFeatures\n",
    "from sklearn.model_selection import cross_val_score"
   ]
  },
  {
   "cell_type": "markdown",
   "metadata": {},
   "source": [
    "# Introduction\n",
    "\n",
    "---\n",
    "## Domain\n",
    "I have a paticular Interest in nature and things that grow. I also have a familial connection with Spain. I knew I wanted to study something relating to nature and agriculture excited me. To scope down my project I decided to qualify the scope to a single country, Spain. I felt that while many things impact carbon emission and pollution in a more general sense, that agriculture and livestock would have a paticular affect in emissions. The correlation between livestock production and emissions is perhaps to obvious and so I decided to focus on crop production.\n",
    "\n",
    "\n",
    "---\n",
    "## The Datasets\n",
    "- For data on Spains agricultural production a data set was sourced from The Food and Agriculture Organization of the United Nations\n",
    "- This source was very well documented which greatly aided in understanding attributes\n",
    "- This source provided a tool for specifcying the range and scope of data to download\n",
    "\n",
    "    - https://www.fao.org/faostat/en/#data/QCL\n",
    "\n",
    "- For data on Spains emissions data was sourced from Our World In Data \n",
    "\n",
    "    - https://github.com/owid/co2-data\n",
    "\n",
    "---\n",
    "## Hypothesis\n",
    "\n",
    "\n",
    "-   The production of a certain crops in Spain during a year have a direct impact on Spains carbon emissions for that year. There is a crop type which has a greatest level of effect on carbon emissions so that as that crop is produced in higher quanities, carbon emissions grow as a direct result.\n",
    "\n",
    "## Classification Task\n",
    "\n",
    "1.  \n"
   ]
  },
  {
   "cell_type": "markdown",
   "metadata": {},
   "source": [
    "# Data Analysis\n"
   ]
  },
  {
   "cell_type": "markdown",
   "metadata": {},
   "source": [
    "--- \n",
    "## Agriculture Data\n",
    "\n",
    "- When collectng data for Spains agricultre the FOA provided a very useful tool for selecting data. One could greatly vary the topic and scope of the data. This tool was very valuable as rather than having to refine a large and poorly organized data set, I was able iterativly change the parameters of the download to suit the needs of the project. \n",
    "\n",
    "- The inital idea was to look at individual crops. The number of crops produced however made this unweilding, so a final data set was settled upon that collected crop croups under the attribute title \"Item\".\n",
    "\n",
    "    - An item groups all crops into categoreis like cereal, fruits, vegetables, oil producing crops, etc. \n",
    "\n",
    "    - This change afforded a more apporpriate scope and although graunality is lost, I believe more meaningful patterns will emerge.\n",
    "\n",
    "\n",
    "- Below shows an example of some of the more important attributes. Of paticular interests are the \"Item\" \"Year\" \"Element\" and \"Value\" of an instance.\n",
    "    - \"Element\" refers to what is being measured, in this case production which is the total domestic production of crop both in and outside the agricultural sector.\n",
    "\n",
    "    - \"Item\" refers to the type of crop as discussed previously\n",
    "\n",
    "    - \"Year\" refers to the year in which the production was measured\n",
    "\n",
    "    - \"Value\" refers to the observed production value of a the crop type in that given year\n",
    "\n",
    "    - \"Unit\" denotes the unit that value of production is measured in: here it is (T) tonnes"
   ]
  },
  {
   "cell_type": "code",
   "execution_count": 180,
   "metadata": {},
   "outputs": [
    {
     "data": {
      "text/html": [
       "<div>\n",
       "<style scoped>\n",
       "    .dataframe tbody tr th:only-of-type {\n",
       "        vertical-align: middle;\n",
       "    }\n",
       "\n",
       "    .dataframe tbody tr th {\n",
       "        vertical-align: top;\n",
       "    }\n",
       "\n",
       "    .dataframe thead th {\n",
       "        text-align: right;\n",
       "    }\n",
       "</style>\n",
       "<table border=\"1\" class=\"dataframe\">\n",
       "  <thead>\n",
       "    <tr style=\"text-align: right;\">\n",
       "      <th></th>\n",
       "      <th>Element</th>\n",
       "      <th>Item Code (CPC)</th>\n",
       "      <th>Item</th>\n",
       "      <th>Year Code</th>\n",
       "      <th>Year</th>\n",
       "      <th>Unit</th>\n",
       "      <th>Value</th>\n",
       "      <th>Flag</th>\n",
       "      <th>Flag Description</th>\n",
       "      <th>Note</th>\n",
       "    </tr>\n",
       "  </thead>\n",
       "  <tbody>\n",
       "    <tr>\n",
       "      <th>0</th>\n",
       "      <td>Production</td>\n",
       "      <td>F1717</td>\n",
       "      <td>Cereals, primary</td>\n",
       "      <td>1961</td>\n",
       "      <td>1961</td>\n",
       "      <td>t</td>\n",
       "      <td>7501313.0</td>\n",
       "      <td>A</td>\n",
       "      <td>Official figure</td>\n",
       "      <td>NaN</td>\n",
       "    </tr>\n",
       "    <tr>\n",
       "      <th>1</th>\n",
       "      <td>Production</td>\n",
       "      <td>F1717</td>\n",
       "      <td>Cereals, primary</td>\n",
       "      <td>1962</td>\n",
       "      <td>1962</td>\n",
       "      <td>t</td>\n",
       "      <td>9274378.0</td>\n",
       "      <td>A</td>\n",
       "      <td>Official figure</td>\n",
       "      <td>NaN</td>\n",
       "    </tr>\n",
       "    <tr>\n",
       "      <th>2</th>\n",
       "      <td>Production</td>\n",
       "      <td>F1717</td>\n",
       "      <td>Cereals, primary</td>\n",
       "      <td>1963</td>\n",
       "      <td>1963</td>\n",
       "      <td>t</td>\n",
       "      <td>9418967.0</td>\n",
       "      <td>A</td>\n",
       "      <td>Official figure</td>\n",
       "      <td>NaN</td>\n",
       "    </tr>\n",
       "  </tbody>\n",
       "</table>\n",
       "</div>"
      ],
      "text/plain": [
       "      Element Item Code (CPC)              Item  Year Code  Year Unit  \\\n",
       "0  Production           F1717  Cereals, primary       1961  1961    t   \n",
       "1  Production           F1717  Cereals, primary       1962  1962    t   \n",
       "2  Production           F1717  Cereals, primary       1963  1963    t   \n",
       "\n",
       "       Value Flag Flag Description  Note  \n",
       "0  7501313.0    A  Official figure   NaN  \n",
       "1  9274378.0    A  Official figure   NaN  \n",
       "2  9418967.0    A  Official figure   NaN  "
      ]
     },
     "metadata": {},
     "output_type": "display_data"
    }
   ],
   "source": [
    "# Small Example of agriculture data\n",
    "crops_groups = pd.read_csv('./data/spain_crops_groups.csv')\n",
    "display(crops_groups.iloc[:3, 5:])"
   ]
  },
  {
   "cell_type": "markdown",
   "metadata": {},
   "source": [
    "---\n",
    "## Carbon Emissions Data\n",
    "\n",
    "- This Data set was first found from an article from Our World In Data. The dataset was downloaded from Our World In Data's Co2 and Greenhouse Gas Emissions Database. This data has many attributes with many similar names. To better understand the attributes and importance to project documentation connected to the data set was consulted.\n",
    "\n",
    "- While this database provideds information on many forms of emissions, carbon dioxide emissions was the focus of this project.  \n",
    "\n",
    "- Below smalls a small portion of the data set. Of paticular interest are the \"country\", \"year\", and \"co2_including_luc\"\n",
    "    - \"country\" refers to the country to which the instance belongs\n",
    "\n",
    "    - \"year\" indicates the year in which the measurement was taken\n",
    "\n",
    "    - \"co2_including_luc\" is define by the dataset documentation as \"Annual CO₂ emissions including land-use change - Annual total emissions of carbon dioxide (CO₂), including land-use change, measured in million tonnes\"\n",
    "        - land-use change is the process by which humans shape and alter land to fit specific needs. Cleary agriculture is a major source of land use change as wilded areas are doemsticated to faciliate mass production of crops while other areas may be rewilded. These land use change events include deforestation for the purpose of agricultural production. This deforestation has a great impact on the earths carbon capturing ability. For these reasons this metric is the most pertanted to our study.\n",
    "\n",
    "\n"
   ]
  },
  {
   "cell_type": "code",
   "execution_count": 181,
   "metadata": {},
   "outputs": [
    {
     "data": {
      "text/html": [
       "<div>\n",
       "<style scoped>\n",
       "    .dataframe tbody tr th:only-of-type {\n",
       "        vertical-align: middle;\n",
       "    }\n",
       "\n",
       "    .dataframe tbody tr th {\n",
       "        vertical-align: top;\n",
       "    }\n",
       "\n",
       "    .dataframe thead th {\n",
       "        text-align: right;\n",
       "    }\n",
       "</style>\n",
       "<table border=\"1\" class=\"dataframe\">\n",
       "  <thead>\n",
       "    <tr style=\"text-align: right;\">\n",
       "      <th></th>\n",
       "      <th>country</th>\n",
       "      <th>year</th>\n",
       "      <th>iso_code</th>\n",
       "      <th>population</th>\n",
       "      <th>gdp</th>\n",
       "      <th>cement_co2</th>\n",
       "      <th>cement_co2_per_capita</th>\n",
       "      <th>co2</th>\n",
       "      <th>co2_growth_abs</th>\n",
       "      <th>co2_growth_prct</th>\n",
       "      <th>co2_including_luc</th>\n",
       "    </tr>\n",
       "  </thead>\n",
       "  <tbody>\n",
       "    <tr>\n",
       "      <th>41200</th>\n",
       "      <td>Spain</td>\n",
       "      <td>1890</td>\n",
       "      <td>ESP</td>\n",
       "      <td>17749968.0</td>\n",
       "      <td>4.373549e+10</td>\n",
       "      <td>NaN</td>\n",
       "      <td>NaN</td>\n",
       "      <td>7.339</td>\n",
       "      <td>0.517</td>\n",
       "      <td>7.573</td>\n",
       "      <td>24.608</td>\n",
       "    </tr>\n",
       "    <tr>\n",
       "      <th>41201</th>\n",
       "      <td>Spain</td>\n",
       "      <td>1891</td>\n",
       "      <td>ESP</td>\n",
       "      <td>17834434.0</td>\n",
       "      <td>4.475052e+10</td>\n",
       "      <td>NaN</td>\n",
       "      <td>NaN</td>\n",
       "      <td>7.940</td>\n",
       "      <td>0.601</td>\n",
       "      <td>8.188</td>\n",
       "      <td>27.735</td>\n",
       "    </tr>\n",
       "    <tr>\n",
       "      <th>41202</th>\n",
       "      <td>Spain</td>\n",
       "      <td>1892</td>\n",
       "      <td>ESP</td>\n",
       "      <td>17916684.0</td>\n",
       "      <td>4.871361e+10</td>\n",
       "      <td>NaN</td>\n",
       "      <td>NaN</td>\n",
       "      <td>8.299</td>\n",
       "      <td>0.359</td>\n",
       "      <td>4.522</td>\n",
       "      <td>29.551</td>\n",
       "    </tr>\n",
       "    <tr>\n",
       "      <th>41203</th>\n",
       "      <td>Spain</td>\n",
       "      <td>1893</td>\n",
       "      <td>ESP</td>\n",
       "      <td>17996694.0</td>\n",
       "      <td>4.684359e+10</td>\n",
       "      <td>NaN</td>\n",
       "      <td>NaN</td>\n",
       "      <td>8.119</td>\n",
       "      <td>-0.180</td>\n",
       "      <td>-2.163</td>\n",
       "      <td>30.338</td>\n",
       "    </tr>\n",
       "  </tbody>\n",
       "</table>\n",
       "</div>"
      ],
      "text/plain": [
       "      country  year iso_code  population           gdp  cement_co2  \\\n",
       "41200   Spain  1890      ESP  17749968.0  4.373549e+10         NaN   \n",
       "41201   Spain  1891      ESP  17834434.0  4.475052e+10         NaN   \n",
       "41202   Spain  1892      ESP  17916684.0  4.871361e+10         NaN   \n",
       "41203   Spain  1893      ESP  17996694.0  4.684359e+10         NaN   \n",
       "\n",
       "       cement_co2_per_capita    co2  co2_growth_abs  co2_growth_prct  \\\n",
       "41200                    NaN  7.339           0.517            7.573   \n",
       "41201                    NaN  7.940           0.601            8.188   \n",
       "41202                    NaN  8.299           0.359            4.522   \n",
       "41203                    NaN  8.119          -0.180           -2.163   \n",
       "\n",
       "       co2_including_luc  \n",
       "41200             24.608  \n",
       "41201             27.735  \n",
       "41202             29.551  \n",
       "41203             30.338  "
      ]
     },
     "metadata": {},
     "output_type": "display_data"
    }
   ],
   "source": [
    "# Small Example of carbon emissons data with most attributes hidden\n",
    "carbon_emissions = pd.read_csv('./data/carbon_emissions.csv')\n",
    "display(carbon_emissions.iloc[41200:41204, :11])"
   ]
  },
  {
   "cell_type": "markdown",
   "metadata": {},
   "source": [
    "---\n",
    "\n",
    "## Data Preperation\n",
    "\n",
    "### Preparing the crop data\n",
    "\n",
    "- Three primary areas of concern arose when preparing the crop data.\n",
    "    \n",
    "    1. The dataframe was formatted in way that made accessing values difficult and need to be reorganized and simplified.\n",
    "    2. The value of production for Fibre Crops in the years of 1998 and 1999 were outliers\n",
    "    3. The \"Value\" attribute was missing for three crop types between the years 2018-2022\n",
    "\n",
    "\n",
    "- Something important to note is that the crop data is mesured in tonnes while the emission data is measured in millions of tonnes. This means the values are not formatted the same. To solve this at times I kept the crop data standardized and at another time changed it to be measured in millions of tonnes as well. In the end however, I decided to leave the data as it was. The python tools implemented for the study automaticlly normalized the crop data and so manual manipulation was not neccesary.\n",
    "\n",
    "## Issue 1\n",
    "\n",
    "- Each instance had its \"Element\", \"Item\", \"Year\", \"Value\" as record belong to an instance. This meant that for every \"Item\" (crop type) there would be an instance of each year, thus there were multiple instances of every year. The ideal format would have only one instance for each year and each individual crop type would an attribute, in which the \"Value\" of the \"Element\" (production) would be stored. \n",
    "    \n",
    "- The solution to this problem was to shift the axes of many parts of the data frame. The new data frame (example below)\n",
    "    - For each column of a crop type the value represents the production value for that year in tonnes\n",
    "    - While most of the crop types are self explanatory some need clarification\n",
    "        - Oilcrops are crops that produce oil and there is a great variety of oil crops which can be harvested in different ways. For this reason many but not all oil producing crops are either aggregated to oil equivilant or cake equivilant. Oil cake is the resedue left over of a crop after extracting oil. Some oil producing crops such as dessert and table nuts are actually listed under the nuts category rather than as oil crops.\n",
    "        - Examples of Roots and Tubers include: potatos, onions, carrots, turnips, etc.\n",
    "        - Examples of Pulses include:Peas, Lentils, Beans, etc. "
   ]
  },
  {
   "cell_type": "code",
   "execution_count": 182,
   "metadata": {},
   "outputs": [
    {
     "data": {
      "text/html": [
       "<div>\n",
       "<style scoped>\n",
       "    .dataframe tbody tr th:only-of-type {\n",
       "        vertical-align: middle;\n",
       "    }\n",
       "\n",
       "    .dataframe tbody tr th {\n",
       "        vertical-align: top;\n",
       "    }\n",
       "\n",
       "    .dataframe thead th {\n",
       "        text-align: right;\n",
       "    }\n",
       "</style>\n",
       "<table border=\"1\" class=\"dataframe\">\n",
       "  <thead>\n",
       "    <tr style=\"text-align: right;\">\n",
       "      <th></th>\n",
       "      <th>Year</th>\n",
       "      <th>Cereal</th>\n",
       "      <th>Citrus Fruits</th>\n",
       "      <th>Fibre</th>\n",
       "      <th>Fruit</th>\n",
       "      <th>Vegetables</th>\n",
       "      <th>Sugar Crops</th>\n",
       "      <th>Oilcrops, Cake</th>\n",
       "      <th>Oilcrops, Oil</th>\n",
       "      <th>Pulses</th>\n",
       "      <th>Roots and Tubers</th>\n",
       "      <th>Treenuts</th>\n",
       "    </tr>\n",
       "  </thead>\n",
       "  <tbody>\n",
       "    <tr>\n",
       "      <th>0</th>\n",
       "      <td>1961</td>\n",
       "      <td>7501313.0</td>\n",
       "      <td>1963100.0</td>\n",
       "      <td>125501.0</td>\n",
       "      <td>8056170.0</td>\n",
       "      <td>5135084.0</td>\n",
       "      <td>4668000.0</td>\n",
       "      <td>123085.0</td>\n",
       "      <td>454410.81</td>\n",
       "      <td>705227.0</td>\n",
       "      <td>5033925.0</td>\n",
       "      <td>337261.0</td>\n",
       "    </tr>\n",
       "    <tr>\n",
       "      <th>1</th>\n",
       "      <td>1962</td>\n",
       "      <td>9274378.0</td>\n",
       "      <td>1411000.0</td>\n",
       "      <td>135918.0</td>\n",
       "      <td>7842627.0</td>\n",
       "      <td>5088416.0</td>\n",
       "      <td>3843000.0</td>\n",
       "      <td>131119.0</td>\n",
       "      <td>408366.28</td>\n",
       "      <td>755270.0</td>\n",
       "      <td>4263018.0</td>\n",
       "      <td>237906.0</td>\n",
       "    </tr>\n",
       "    <tr>\n",
       "      <th>2</th>\n",
       "      <td>1963</td>\n",
       "      <td>9418967.0</td>\n",
       "      <td>2087300.0</td>\n",
       "      <td>113091.0</td>\n",
       "      <td>9093705.0</td>\n",
       "      <td>5315694.0</td>\n",
       "      <td>3048000.0</td>\n",
       "      <td>112455.0</td>\n",
       "      <td>728444.63</td>\n",
       "      <td>750300.0</td>\n",
       "      <td>5184266.0</td>\n",
       "      <td>269686.0</td>\n",
       "    </tr>\n",
       "  </tbody>\n",
       "</table>\n",
       "</div>"
      ],
      "text/plain": [
       "   Year     Cereal  Citrus Fruits     Fibre      Fruit  Vegetables  \\\n",
       "0  1961  7501313.0      1963100.0  125501.0  8056170.0   5135084.0   \n",
       "1  1962  9274378.0      1411000.0  135918.0  7842627.0   5088416.0   \n",
       "2  1963  9418967.0      2087300.0  113091.0  9093705.0   5315694.0   \n",
       "\n",
       "   Sugar Crops  Oilcrops, Cake  Oilcrops, Oil    Pulses  Roots and Tubers  \\\n",
       "0    4668000.0        123085.0      454410.81  705227.0         5033925.0   \n",
       "1    3843000.0        131119.0      408366.28  755270.0         4263018.0   \n",
       "2    3048000.0        112455.0      728444.63  750300.0         5184266.0   \n",
       "\n",
       "   Treenuts  \n",
       "0  337261.0  \n",
       "1  237906.0  \n",
       "2  269686.0  "
      ]
     },
     "metadata": {},
     "output_type": "display_data"
    }
   ],
   "source": [
    "# Crops data after making shift\n",
    "crops_by_groups = pd.read_csv('./data/crops_by_group.csv')\n",
    "display(crops_by_groups.iloc[:3, 1:])"
   ]
  },
  {
   "cell_type": "markdown",
   "metadata": {},
   "source": [
    "#### Issue 2\n",
    "\n",
    "- The value produced for fibre crops in the years of 1998 and 1999 were tested using z scores and had a value greater than 3, thus they are outliers in the data.\n",
    "\n",
    "- The solution here was to make a decision: the outliers would not be altered or removed from the data. The data is yearly measurements of the overall production of each crop category for every year. The nature of this data frame would mean that removing outliers would be removing enitre years worth of data. In addition this data is simply recorindg the observed production value of each crop, if in a specific year a disproportionate amount of one crop was produced that data isn't neccisarliy incorrect. Though it may cause issues later when developing the model the decision was made to keep these outliers."
   ]
  },
  {
   "cell_type": "markdown",
   "metadata": {},
   "source": [
    "#### Issue 3\n",
    "\n",
    "- There were no values of production amount for Fibre crops, oil producing crops, or oil cake crops between the years 2018-2019\n",
    "\n",
    "- To solve this issue two methods were developed. The first was effort was to train linear regression models for each category using the data from the five years before the missing data (2013-2017). Perhaps only using five years created an issues because the models were not producing satisfactory or \"beleivable\" results for the missing years' data.\n",
    "\n",
    "- When this first solution failed to generate data that would \"fit\" another method was devloped. The second method was to take the mean of the five previous years for each crop type to generate a single year's production value. This process was repeated for every year. This means that the imputed data was being using to imput more data. \n",
    "    - 2018 was produced using 2013, 2014, 2015, 2016, 2017.\n",
    "    - 2019 was produced using 2014, 2015, 2016, 2017, 2018 (the previously imputed val).\n",
    "    - this was repeated for up to the year 2022.\n",
    "\n",
    "- While it may be a cause for concern that imputed data was being used to imput other data, this method was perferable as it unlike the first method the outlier data for fibre crops (the years 1998-1999) had no impact on the imputations. The main reason this method was perfered was simply because the data produced did not greatly vary from the \"real\" instances before and after and continued the general trend that the \"real\" data was following."
   ]
  },
  {
   "cell_type": "markdown",
   "metadata": {},
   "source": [
    " ### Preparing the emissions data\n",
    "\n",
    "- This data set did not need much alteration before merging. Many of the changes were relating to scoping the data to size that would be perferable to use in conjunction with the crop data\n",
    "\n",
    "    - All instaces pertaining to countries other than Spain were dropped.\n",
    "\n",
    "    - Attributes with 30% or more of its data missing were removed.\n",
    "\n",
    "    - Further all attributes outside of 'country','year', 'co2_including_luc', 'co2_including_luc_growth_abs', 'co2_including_luc_growth_prct' were dropped. The classifer for this study is co2_including_luc, however these other attributes were interesting variations on that data and at this point in the study I was still considering exploring at them. Later these attributes would be dropped leaving only our original classifer 'co2_including_luc'\n",
    "\n",
    "    \n",
    "    - Lastly all instances that belonged to years before 1961 were dropped. This was to match the emissions data with the available years of crop data\n",
    " "
   ]
  },
  {
   "cell_type": "code",
   "execution_count": 183,
   "metadata": {},
   "outputs": [
    {
     "data": {
      "text/html": [
       "<div>\n",
       "<style scoped>\n",
       "    .dataframe tbody tr th:only-of-type {\n",
       "        vertical-align: middle;\n",
       "    }\n",
       "\n",
       "    .dataframe tbody tr th {\n",
       "        vertical-align: top;\n",
       "    }\n",
       "\n",
       "    .dataframe thead th {\n",
       "        text-align: right;\n",
       "    }\n",
       "</style>\n",
       "<table border=\"1\" class=\"dataframe\">\n",
       "  <thead>\n",
       "    <tr style=\"text-align: right;\">\n",
       "      <th></th>\n",
       "      <th>Unnamed: 0</th>\n",
       "      <th>country</th>\n",
       "      <th>Year</th>\n",
       "      <th>co2_including_luc</th>\n",
       "    </tr>\n",
       "  </thead>\n",
       "  <tbody>\n",
       "    <tr>\n",
       "      <th>0</th>\n",
       "      <td>41271</td>\n",
       "      <td>Spain</td>\n",
       "      <td>1961</td>\n",
       "      <td>71.444</td>\n",
       "    </tr>\n",
       "    <tr>\n",
       "      <th>1</th>\n",
       "      <td>41272</td>\n",
       "      <td>Spain</td>\n",
       "      <td>1962</td>\n",
       "      <td>70.795</td>\n",
       "    </tr>\n",
       "    <tr>\n",
       "      <th>2</th>\n",
       "      <td>41273</td>\n",
       "      <td>Spain</td>\n",
       "      <td>1963</td>\n",
       "      <td>60.300</td>\n",
       "    </tr>\n",
       "    <tr>\n",
       "      <th>3</th>\n",
       "      <td>41274</td>\n",
       "      <td>Spain</td>\n",
       "      <td>1964</td>\n",
       "      <td>67.304</td>\n",
       "    </tr>\n",
       "    <tr>\n",
       "      <th>4</th>\n",
       "      <td>41275</td>\n",
       "      <td>Spain</td>\n",
       "      <td>1965</td>\n",
       "      <td>62.890</td>\n",
       "    </tr>\n",
       "    <tr>\n",
       "      <th>5</th>\n",
       "      <td>41276</td>\n",
       "      <td>Spain</td>\n",
       "      <td>1966</td>\n",
       "      <td>95.020</td>\n",
       "    </tr>\n",
       "  </tbody>\n",
       "</table>\n",
       "</div>"
      ],
      "text/plain": [
       "   Unnamed: 0 country  Year  co2_including_luc\n",
       "0       41271   Spain  1961             71.444\n",
       "1       41272   Spain  1962             70.795\n",
       "2       41273   Spain  1963             60.300\n",
       "3       41274   Spain  1964             67.304\n",
       "4       41275   Spain  1965             62.890\n",
       "5       41276   Spain  1966             95.020"
      ]
     },
     "metadata": {},
     "output_type": "display_data"
    }
   ],
   "source": [
    "# Small example of emissions data before merging\n",
    "emissions_before_merge = pd.read_csv('./data/emissions_before_merge.csv')\n",
    "display(emissions_before_merge.loc[0:5, :])"
   ]
  },
  {
   "cell_type": "markdown",
   "metadata": {},
   "source": [
    "### Merging the data\n",
    "\n",
    "- The data sets were merged using the \"Year attribute\" to create a working data set with which exploration could be carried out.\n",
    "- Now with this data frame each instance represents a single year in which we can find the production in tonnes of each crop category and the co2 emissions in millions of tonnes. As mentioned previously at times the crop data was manually standardized and at other times made to be match the co2 data by measuring in millions of tonnes rather than only tonnes. The python features utilized for exploration and model creation automaticly normalized the crop data and so it became uneccesary to first standardize or change the measurement scale of my data before training models with it."
   ]
  },
  {
   "cell_type": "code",
   "execution_count": 184,
   "metadata": {},
   "outputs": [
    {
     "data": {
      "text/html": [
       "<div>\n",
       "<style scoped>\n",
       "    .dataframe tbody tr th:only-of-type {\n",
       "        vertical-align: middle;\n",
       "    }\n",
       "\n",
       "    .dataframe tbody tr th {\n",
       "        vertical-align: top;\n",
       "    }\n",
       "\n",
       "    .dataframe thead th {\n",
       "        text-align: right;\n",
       "    }\n",
       "</style>\n",
       "<table border=\"1\" class=\"dataframe\">\n",
       "  <thead>\n",
       "    <tr style=\"text-align: right;\">\n",
       "      <th></th>\n",
       "      <th>country</th>\n",
       "      <th>Year</th>\n",
       "      <th>co2_including_luc</th>\n",
       "      <th>Cereal</th>\n",
       "      <th>Citrus Fruits</th>\n",
       "      <th>Fibre</th>\n",
       "      <th>Fruit</th>\n",
       "      <th>Vegetables</th>\n",
       "      <th>Sugar Crops</th>\n",
       "      <th>Oilcrops, Cake</th>\n",
       "      <th>Oilcrops, Oil</th>\n",
       "      <th>Pulses</th>\n",
       "      <th>Roots and Tubers</th>\n",
       "      <th>Treenuts</th>\n",
       "    </tr>\n",
       "  </thead>\n",
       "  <tbody>\n",
       "    <tr>\n",
       "      <th>0</th>\n",
       "      <td>Spain</td>\n",
       "      <td>1961</td>\n",
       "      <td>71.444</td>\n",
       "      <td>7501313.0</td>\n",
       "      <td>1963100.0</td>\n",
       "      <td>125501.0</td>\n",
       "      <td>8056170.0</td>\n",
       "      <td>5135084.0</td>\n",
       "      <td>4668000.0</td>\n",
       "      <td>123085.0</td>\n",
       "      <td>454410.81</td>\n",
       "      <td>705227.0</td>\n",
       "      <td>5033925.0</td>\n",
       "      <td>337261.0</td>\n",
       "    </tr>\n",
       "    <tr>\n",
       "      <th>1</th>\n",
       "      <td>Spain</td>\n",
       "      <td>1962</td>\n",
       "      <td>70.795</td>\n",
       "      <td>9274378.0</td>\n",
       "      <td>1411000.0</td>\n",
       "      <td>135918.0</td>\n",
       "      <td>7842627.0</td>\n",
       "      <td>5088416.0</td>\n",
       "      <td>3843000.0</td>\n",
       "      <td>131119.0</td>\n",
       "      <td>408366.28</td>\n",
       "      <td>755270.0</td>\n",
       "      <td>4263018.0</td>\n",
       "      <td>237906.0</td>\n",
       "    </tr>\n",
       "    <tr>\n",
       "      <th>2</th>\n",
       "      <td>Spain</td>\n",
       "      <td>1963</td>\n",
       "      <td>60.300</td>\n",
       "      <td>9418967.0</td>\n",
       "      <td>2087300.0</td>\n",
       "      <td>113091.0</td>\n",
       "      <td>9093705.0</td>\n",
       "      <td>5315694.0</td>\n",
       "      <td>3048000.0</td>\n",
       "      <td>112455.0</td>\n",
       "      <td>728444.63</td>\n",
       "      <td>750300.0</td>\n",
       "      <td>5184266.0</td>\n",
       "      <td>269686.0</td>\n",
       "    </tr>\n",
       "  </tbody>\n",
       "</table>\n",
       "</div>"
      ],
      "text/plain": [
       "  country  Year  co2_including_luc     Cereal  Citrus Fruits     Fibre  \\\n",
       "0   Spain  1961             71.444  7501313.0      1963100.0  125501.0   \n",
       "1   Spain  1962             70.795  9274378.0      1411000.0  135918.0   \n",
       "2   Spain  1963             60.300  9418967.0      2087300.0  113091.0   \n",
       "\n",
       "       Fruit  Vegetables  Sugar Crops  Oilcrops, Cake  Oilcrops, Oil  \\\n",
       "0  8056170.0   5135084.0    4668000.0        123085.0      454410.81   \n",
       "1  7842627.0   5088416.0    3843000.0        131119.0      408366.28   \n",
       "2  9093705.0   5315694.0    3048000.0        112455.0      728444.63   \n",
       "\n",
       "     Pulses  Roots and Tubers  Treenuts  \n",
       "0  705227.0         5033925.0  337261.0  \n",
       "1  755270.0         4263018.0  237906.0  \n",
       "2  750300.0         5184266.0  269686.0  "
      ]
     },
     "metadata": {},
     "output_type": "display_data"
    }
   ],
   "source": [
    "# Small example of working data set\n",
    "df = pd.read_csv('./data/workingData.csv')\n",
    "display(df.iloc[:3, 1:])"
   ]
  },
  {
   "cell_type": "markdown",
   "metadata": {},
   "source": [
    "---\n",
    "\n",
    "## Exploratory data analysis\n",
    "\n",
    "- Exploration involved creating a series of scatter plots. Each plot had the classifer, co2, on the y axis and one of the crop types on the x axis.\n",
    "\n",
    "- In this first visualization step Cereal, Fruit, Vegetables, and Pulses stood out as having the strongest correlations with co2 emissions. Below is shown the scatter plots for Fruit, Vegetables, and also co2 graphed by year. These are both rather strong positive correlations and it is even more interesting to note the similarity in the vegetable scatter plot and co2 plotted by year. \n",
    "\n",
    "\n"
   ]
  },
  {
   "cell_type": "code",
   "execution_count": 185,
   "metadata": {},
   "outputs": [
    {
     "data": {
      "text/plain": [
       "<Axes: xlabel='Year', ylabel='co2_including_luc'>"
      ]
     },
     "execution_count": 185,
     "metadata": {},
     "output_type": "execute_result"
    },
    {
     "data": {
      "image/png": "[encoded data removed]",
      "text/plain": [
       "<Figure size 640x480 with 1 Axes>"
      ]
     },
     "metadata": {},
     "output_type": "display_data"
    },
    {
     "data": {
      "image/png": "[encoded data removed]",
      "text/plain": [
       "<Figure size 640x480 with 1 Axes>"
      ]
     },
     "metadata": {},
     "output_type": "display_data"
    },
    {
     "data": {
      "image/png": "[encoded data removed]",
      "text/plain": [
       "<Figure size 640x480 with 1 Axes>"
      ]
     },
     "metadata": {},
     "output_type": "display_data"
    }
   ],
   "source": [
    "# Scatter plots for vegetables, fruit, and by year\n",
    "df.plot.scatter(y='co2_including_luc', x='Fruit')\n",
    "df.plot.scatter(y='co2_including_luc', x='Vegetables')\n",
    "df.plot.scatter(y='co2_including_luc', x='Year')"
   ]
  },
  {
   "cell_type": "markdown",
   "metadata": {},
   "source": [
    "- To narrow down the scope to just two attributes was difficult, but creating quick linear regression models for fruit, pulses, vegetables, and cerael produced the following metrics. Though these tests were rather rudementry and not performed with any cross validation it gave early indications that Vegetables and Fruit had more potential as attributes for predicting co2 emissions. (These values were generated using test data)\n",
    "\n",
    "    - Vegetables\n",
    "        - MSE = 1243.9105018745656\n",
    "        - MAE = 30.472561501616806\n",
    "        - R-squared = 0.4794372632136844\n",
    "\n",
    "    - Fruit\n",
    "        - MSE = 1188.2469498447635\n",
    "        - MAE = 29.885173748160902\n",
    "        - R-squared = 0.5027318418350676\n",
    "\n",
    "    - Pulses\n",
    "        - MSE = 5749.080138601919\n",
    "        - MAE = 62.43074339606418\n",
    "        - R-squared = -1.4059262193255857\n",
    "\n",
    "    - Cereal \n",
    "        - MSE = 2323.8622758088763\n",
    "        - MAE = 40.34525247645582\n",
    "        - R-squared = 0.027489434017552217"
   ]
  },
  {
   "cell_type": "markdown",
   "metadata": {},
   "source": [
    "---\n",
    "\n",
    "##### Experiment with proption\n",
    "\n",
    "- Throughout much of the project the idea of creating enriching the data by creating new attributes kept presenting itself to me. Eventually I decided test the idea. The idea was to take the value of each crop types production for every year and divide it by the total productin value of all crops, thus creating a precentage value of that crops production out of all crop production. The idea was that perhaps this attribute would actually carry more information with it. It would not just be a raw value of production but the attribute would now also communicate the values of the \"other\" crops as well. Below are the metrics generated from a simple second degree polynomial regression model of vegetables and co2 output, as well as a second degree polynomial modeling the precentage or proportion of vegetables compared to all other crops against co2 emissions."
   ]
  },
  {
   "cell_type": "markdown",
   "metadata": {},
   "source": [
    "- Second degree polynomial modeling vegetable production against co2 emissions\n",
    "\n",
    "    - MSE = 1834.7589675181894\n",
    "    - MAE = 33.68383192962836\n",
    "    - R-squared = 0.6404335376159729\n",
    "\n",
    "- Second degree polynomial modeling proportion of vegetable production out of all crop production against co2 emissions\n",
    "\n",
    "    - MSE = 1832.3830609387267\n",
    "    - MAE = 33.64320055407683\n",
    "    - R-squared = 0.6408991553558813\n",
    "    \n",
    "     "
   ]
  },
  {
   "cell_type": "markdown",
   "metadata": {},
   "source": [
    "- It is clear from the above values that this expirment proved to be needless and although I do not regret testing this approach the efforts were abandoned after these tests."
   ]
  },
  {
   "cell_type": "markdown",
   "metadata": {},
   "source": [
    "---\n",
    "\n",
    "## Statisical Analysis\n",
    "\n",
    "- After the data had been explored utilizing visualizations and metrics such as MSE, it was determined that more sophisitcated forms of regressin and evaluation would be conducted using the \"Fruit\"  and \"Vegetables\" attributes. Linear and polynomial regression models tested using both 10 fold cross validation and leave one out cross validation provided valuable information when considering the final model to be implemented. The scores for linear and polynomial regression are below and for example sake one regression model is displayed for both fruit based and vegetable based models.\n",
    "\n",
    "\n",
    "    ### Regression results (measured in negative mean squared error)\n",
    "\n",
    "    #### Fruit based regressions \n",
    "\n",
    "    - Linear Regression scores \n",
    "\n",
    "        - 10 fold cross validation = 1905.5204011325363\n",
    "        - Leave one out cross validation = 1952.2983944636662\n",
    "\n",
    "    - Polynomial Regression degree 2 scores\n",
    "\n",
    "        - 10 fold cross validation = 1725.9269530503764\n",
    "        - Leave one out cross validation = 1777.6287400090173\n",
    "\n",
    "    - Polynomial Regression degree 3 scores\n",
    "\n",
    "        - 10 fold cross validation = 1688.4329160571374\n",
    "        - Leave one out cross validation = 1732.902126482011\n",
    "\n",
    "    #### Vegetable based regression\n",
    "\n",
    "    - Linear Regression scores \n",
    "\n",
    "        - 10 fold cross validation = 2167.7153372667626\n",
    "        - Leave one out cross validation = 2236.897707952948\n",
    "\n",
    "    - Polynomial Regression degree 2 scores\n",
    "\n",
    "        - 10 fold cross validation = 1168.0394190831926\n",
    "        - Leave one out cross validation = 1163.40251366772\n",
    "\n",
    "    - Polynomial Regression degree 3 scores\n",
    "\n",
    "        - 10 fold cross validation = 1103.4197710091134\n",
    "        - Leave one out cross validation = 1087.7483828596326\n",
    "    \n",
    "    #### Multiple based regression using both vegetable and fruit\n",
    "\n",
    "    - Linear Regression scores \n",
    "\n",
    "        - 10 fold cross validation = 1918.2758827315424\n",
    "        - Leave one out cross validation = 2029.6336312562075\n",
    "\n",
    "    - Polynomial Regression degree 2 scores\n",
    "\n",
    "        - 10 fold cross validation = 1273.0696345353342\n",
    "        - Leave one out cross validation = 1221.7889558766985\n",
    "\n",
    "    - Polynomial Regression degree 3 scores\n",
    "\n",
    "        - 10 fold cross validation = 1368.2500074298428\n",
    "        - Leave one out cross validation = 1375.3592041736888\n",
    "\n"
   ]
  },
  {
   "cell_type": "markdown",
   "metadata": {},
   "source": [
    "---\n",
    "\n",
    "\n",
    "##### Example of linear regression in fruit based model"
   ]
  },
  {
   "cell_type": "code",
   "execution_count": 186,
   "metadata": {},
   "outputs": [
    {
     "data": {
      "text/plain": [
       "Text(0, 0.5, 'Co2 (millions of tons)')"
      ]
     },
     "execution_count": 186,
     "metadata": {},
     "output_type": "execute_result"
    },
    {
     "data": {
      "image/png": "[encoded data removed]",
      "text/plain": [
       "<Figure size 640x480 with 1 Axes>"
      ]
     },
     "metadata": {},
     "output_type": "display_data"
    }
   ],
   "source": [
    "\n",
    "test_p = .2\n",
    "seed = 123\n",
    "\n",
    "X = df[['Fruit']].values.reshape(-1, 1)\n",
    "y = df[['co2_including_luc']].values.reshape(-1,1)\n",
    "\n",
    "X_train, X_test, y_train, y_test = train_test_split(\n",
    "\n",
    "    X, y, test_size=test_p, random_state=seed\n",
    ")\n",
    "\n",
    "linModel = LinearRegression()\n",
    "linModel.fit(X_train,y_train)\n",
    "y_pred = linModel.predict(X_test)\n",
    "\n",
    "\n",
    "plt.scatter(X_test, y_test, color='blue')\n",
    "plt.plot(X_test, y_pred, color='red', linewidth=2)\n",
    "plt.xlabel('Fruit', fontsize=14)\n",
    "plt.ylabel('Co2 (millions of tons)', fontsize=14)"
   ]
  },
  {
   "cell_type": "markdown",
   "metadata": {},
   "source": [
    "---\n",
    "\n",
    "\n",
    "##### Example of second degree polynomial regression in vegetable based model"
   ]
  },
  {
   "cell_type": "code",
   "execution_count": 187,
   "metadata": {},
   "outputs": [
    {
     "data": {
      "text/plain": [
       "Text(0, 0.5, 'Co2 (millions of tons)')"
      ]
     },
     "execution_count": 187,
     "metadata": {},
     "output_type": "execute_result"
    },
    {
     "data": {
      "image/png": "[encoded data removed]",
      "text/plain": [
       "<Figure size 640x480 with 1 Axes>"
      ]
     },
     "metadata": {},
     "output_type": "display_data"
    }
   ],
   "source": [
    "\n",
    "test_p = .2\n",
    "seed = 123\n",
    "\n",
    "X = df[['Vegetables']].values.reshape(-1, 1)\n",
    "y = df[['co2_including_luc']].values.reshape(-1,1)\n",
    "\n",
    "X_train, X_test, y_train, y_test = train_test_split(\n",
    "\n",
    "    X, y, test_size=test_p, random_state=seed\n",
    ")\n",
    "\n",
    "X_train = np.asarray(X_train)\n",
    "y_train = np.asarray(y_train)\n",
    "\n",
    "polyFeatures = PolynomialFeatures(degree=2, include_bias=False)\n",
    "xPoly = polyFeatures.fit_transform(X_train.reshape(-1, 1))\n",
    "polyModel = LinearRegression().fit(xPoly, y_train)\n",
    "poly_test = polyFeatures.fit_transform(X_test.reshape(-1, 1))\n",
    "y_pred = polyModel.predict(poly_test)\n",
    "\n",
    "plt.scatter(X_test, y_test, color='black')\n",
    "xDelta = np.linspace(X_test.min(), X_test.max(), 1000)\n",
    "yDelta = polyModel.predict(polyFeatures.fit_transform(xDelta.reshape(-1, 1)))\n",
    "plt.plot(xDelta, yDelta, color='blue', linewidth=2)\n",
    "plt.xlabel('Vegetables', fontsize=14)\n",
    "plt.ylabel('Co2 (millions of tons)', fontsize=14)\n"
   ]
  },
  {
   "cell_type": "markdown",
   "metadata": {},
   "source": [
    "### Interpretation of regression tests\n",
    "\n",
    "- The above test scores helped determining that a soley vegetable based model had the most potenital. Of all the scores the best was about 1087.75. This test score came from leave one out cross validation on a third degree polynomial model using \"Vegetables\" as the input attribute. After reviewing the tests results it is clear that models going forward should consider using vegetables as the input attribute by which to predict our classifer, co2. Though this level of exploration may have been satisfying to for discerning the correct basis for a future model more analysis was undertaken. \n",
    "\n",
    "- The next step was to test multiple vegetable based polynomial regression models to determine which degree produced best metrics while not overfitting the data. Below shows a graph comparing the performance of multiple polynomial regression models in a vegetable base model. Clearly a model of the second degree produces the smallest average MSE metric while not overfitting the data. The improvment gained by increasing to the third degree is minimal and therefore not ideal. This is interesting however in the final model this step of analysis could prove irrelevant."
   ]
  },
  {
   "cell_type": "code",
   "execution_count": 188,
   "metadata": {},
   "outputs": [
    {
     "data": {
      "text/plain": [
       "Text(0, 0.5, 'Mean squared error')"
      ]
     },
     "execution_count": 188,
     "metadata": {},
     "output_type": "execute_result"
    },
    {
     "data": {
      "image/png": "[encoded data removed]",
      "text/plain": [
       "<Figure size 640x480 with 1 Axes>"
      ]
     },
     "metadata": {},
     "output_type": "display_data"
    }
   ],
   "source": [
    "\n",
    "cvMeans = []\n",
    "cvStdDev = []\n",
    "\n",
    "X = df[['Vegetables']].values.reshape(-1, 1)\n",
    "y = df[['co2_including_luc']].values.reshape(-1,1)\n",
    "\n",
    "X_train, X_test, y_train, y_test = train_test_split(\n",
    "\n",
    "    X, y, test_size=test_p, random_state=seed\n",
    ")\n",
    "\n",
    "X_train = np.asarray(X_train)\n",
    "y_train = np.asarray(y_train)\n",
    "\n",
    "for i in range(1, 7):\n",
    "    # Fit a degree i polynomial regression model\n",
    "    polyFeatures = PolynomialFeatures(degree=i, include_bias=False)\n",
    "    XPoly = polyFeatures.fit_transform(X_train)\n",
    "    polyModel = LinearRegression()\n",
    "    polyModel.fit(XPoly, y_train)\n",
    "\n",
    "    polyscore = -cross_val_score(\n",
    "        polyModel, XPoly, y_train, scoring='neg_mean_squared_error', cv=49\n",
    "    )\n",
    "\n",
    "    # Store the mean and standard deviation of the 10-fold cross-validation for the degree i polynomial regression model\n",
    "    cvMeans.append(np.mean(polyscore))\n",
    "    cvStdDev.append(np.std(polyscore))\n",
    "\n",
    "plt.errorbar(x=range(1, 7), y=cvMeans, yerr=cvStdDev, marker='o', color='black')\n",
    "plt.xlabel('Degree of regression polynomial', fontsize=14)\n",
    "plt.ylabel('Mean squared error', fontsize=14)"
   ]
  },
  {
   "cell_type": "markdown",
   "metadata": {},
   "source": [
    "---\n",
    "\n",
    "# Classification Results\n",
    "\n",
    "- As the nature of the data in this project is numerical and was not altered to accomidate classification the decision of what model to implement was rather a simple one. A K-nearest neighbors model would accomadate the numerical nature of the data while providing a more sophisisticated model than simple ploynomial regression. The results of the previous efforts had also confirmed that the paramter for this model ought to soley be based on the attribute \"Vegetables\".\n",
    "\n",
    "\n",
    "- Below are is a graph measuring the results of cross validation proccesses being carried out on Knn model with the K paramter equal to 2."
   ]
  },
  {
   "cell_type": "code",
   "execution_count": 189,
   "metadata": {},
   "outputs": [
    {
     "data": {
      "text/plain": [
       "([<matplotlib.axis.XTick at 0x7f174c8f15b0>,\n",
       "  <matplotlib.axis.XTick at 0x7f174c8f1730>],\n",
       " [Text(0, 0, '10-fold'), Text(1, 0, 'LOOCV')])"
      ]
     },
     "execution_count": 189,
     "metadata": {},
     "output_type": "execute_result"
    },
    {
     "data": {
      "image/png": "[encoded data removed]",
      "text/plain": [
       "<Figure size 640x480 with 1 Axes>"
      ]
     },
     "metadata": {},
     "output_type": "display_data"
    }
   ],
   "source": [
    "\n",
    "seed = 123\n",
    "test_p = 0.2\n",
    "\n",
    "X = df[['Vegetables']].values.reshape(-1, 1)\n",
    "y = df[['co2_including_luc']].values.reshape(-1,1)\n",
    "\n",
    "X_train, X_test, y_train, y_test = train_test_split(\n",
    "\n",
    "    X, y, test_size=test_p, random_state=seed\n",
    ")\n",
    "\n",
    "X_train = np.asarray(X_train)\n",
    "y_train = np.asarray(y_train)\n",
    "\n",
    "knnModel = KNeighborsRegressor(n_neighbors=2)\n",
    "knnModel.fit(X_train, np.ravel(y_train))\n",
    "y_pred = knnModel.predict(X_test)\n",
    "\n",
    "ten_fold_scores = -cross_val_score(\n",
    "    knnModel, X_train, y_train, scoring='neg_mean_squared_error', cv=10\n",
    ")\n",
    "\n",
    "LOOCV_scores = -cross_val_score(knnModel, X_train, y_train, scoring='neg_mean_squared_error', cv=49)\n",
    "\n",
    "plt.plot(np.zeros_like(ten_fold_scores), ten_fold_scores, '.')\n",
    "plt.plot(np.zeros_like(LOOCV_scores) + 1, LOOCV_scores, '.')\n",
    "plt.ylabel('Mean squared errors', fontsize=14)\n",
    "plt.xticks([0, 1], ['10-fold', 'LOOCV'])"
   ]
  }
 ],
 "metadata": {
  "kernelspec": {
   "display_name": "Python 3",
   "language": "python",
   "name": "python3"
  },
  "language_info": {
   "codemirror_mode": {
    "name": "ipython",
    "version": 3
   },
   "file_extension": ".py",
   "mimetype": "text/x-python",
   "name": "python",
   "nbconvert_exporter": "python",
   "pygments_lexer": "ipython3",
   "version": "3.8.10"
  }
 },
 "nbformat": 4,
 "nbformat_minor": 2
}
